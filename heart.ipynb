{
 "cells": [
  {
   "cell_type": "code",
   "execution_count": 1,
   "id": "0e6002f1-a0cb-4834-922b-8051c2528bd3",
   "metadata": {},
   "outputs": [],
   "source": [
    "import pandas as pd\n",
    "from sklearn.model_selection import train_test_split\n",
    "from sklearn.preprocessing import StandardScaler"
   ]
  },
  {
   "cell_type": "code",
   "execution_count": 2,
   "id": "61388d9b-002b-4cf0-8ba6-8825f8a8e132",
   "metadata": {},
   "outputs": [
    {
     "name": "stdout",
     "output_type": "stream",
     "text": [
      "İlk 5 Satır:\n",
      "   age  sex  cp  trestbps  chol  fbs  restecg  thalach  exang  oldpeak  slope  \\\n",
      "0   52    1   0       125   212    0        1      168      0      1.0      2   \n",
      "1   53    1   0       140   203    1        0      155      1      3.1      0   \n",
      "2   70    1   0       145   174    0        1      125      1      2.6      0   \n",
      "3   61    1   0       148   203    0        1      161      0      0.0      2   \n",
      "4   62    0   0       138   294    1        1      106      0      1.9      1   \n",
      "\n",
      "   ca  thal  target  \n",
      "0   2     3       0  \n",
      "1   0     3       0  \n",
      "2   0     3       0  \n",
      "3   1     3       0  \n",
      "4   3     2       0  \n",
      "\n",
      "Veri Bilgileri:\n",
      "<class 'pandas.core.frame.DataFrame'>\n",
      "RangeIndex: 1025 entries, 0 to 1024\n",
      "Data columns (total 14 columns):\n",
      " #   Column    Non-Null Count  Dtype  \n",
      "---  ------    --------------  -----  \n",
      " 0   age       1025 non-null   int64  \n",
      " 1   sex       1025 non-null   int64  \n",
      " 2   cp        1025 non-null   int64  \n",
      " 3   trestbps  1025 non-null   int64  \n",
      " 4   chol      1025 non-null   int64  \n",
      " 5   fbs       1025 non-null   int64  \n",
      " 6   restecg   1025 non-null   int64  \n",
      " 7   thalach   1025 non-null   int64  \n",
      " 8   exang     1025 non-null   int64  \n",
      " 9   oldpeak   1025 non-null   float64\n",
      " 10  slope     1025 non-null   int64  \n",
      " 11  ca        1025 non-null   int64  \n",
      " 12  thal      1025 non-null   int64  \n",
      " 13  target    1025 non-null   int64  \n",
      "dtypes: float64(1), int64(13)\n",
      "memory usage: 112.2 KB\n",
      "None\n",
      "\n",
      "İstatistikler:\n",
      "               age          sex           cp     trestbps        chol  \\\n",
      "count  1025.000000  1025.000000  1025.000000  1025.000000  1025.00000   \n",
      "mean     54.434146     0.695610     0.942439   131.611707   246.00000   \n",
      "std       9.072290     0.460373     1.029641    17.516718    51.59251   \n",
      "min      29.000000     0.000000     0.000000    94.000000   126.00000   \n",
      "25%      48.000000     0.000000     0.000000   120.000000   211.00000   \n",
      "50%      56.000000     1.000000     1.000000   130.000000   240.00000   \n",
      "75%      61.000000     1.000000     2.000000   140.000000   275.00000   \n",
      "max      77.000000     1.000000     3.000000   200.000000   564.00000   \n",
      "\n",
      "               fbs      restecg      thalach        exang      oldpeak  \\\n",
      "count  1025.000000  1025.000000  1025.000000  1025.000000  1025.000000   \n",
      "mean      0.149268     0.529756   149.114146     0.336585     1.071512   \n",
      "std       0.356527     0.527878    23.005724     0.472772     1.175053   \n",
      "min       0.000000     0.000000    71.000000     0.000000     0.000000   \n",
      "25%       0.000000     0.000000   132.000000     0.000000     0.000000   \n",
      "50%       0.000000     1.000000   152.000000     0.000000     0.800000   \n",
      "75%       0.000000     1.000000   166.000000     1.000000     1.800000   \n",
      "max       1.000000     2.000000   202.000000     1.000000     6.200000   \n",
      "\n",
      "             slope           ca         thal       target  \n",
      "count  1025.000000  1025.000000  1025.000000  1025.000000  \n",
      "mean      1.385366     0.754146     2.323902     0.513171  \n",
      "std       0.617755     1.030798     0.620660     0.500070  \n",
      "min       0.000000     0.000000     0.000000     0.000000  \n",
      "25%       1.000000     0.000000     2.000000     0.000000  \n",
      "50%       1.000000     0.000000     2.000000     1.000000  \n",
      "75%       2.000000     1.000000     3.000000     1.000000  \n",
      "max       2.000000     4.000000     3.000000     1.000000  \n"
     ]
    }
   ],
   "source": [
    "# Veriyi CSV dosyasından oku\n",
    "df = pd.read_csv(\"heart.csv\")\n",
    "\n",
    "# İlk 5 satırı göster\n",
    "print(\"İlk 5 Satır:\")\n",
    "print(df.head())\n",
    "\n",
    "# Veri hakkında genel bilgiler\n",
    "print(\"\\nVeri Bilgileri:\")\n",
    "print(df.info())\n",
    "\n",
    "# Sayısal özelliklerin istatistikleri\n",
    "print(\"\\nİstatistikler:\")\n",
    "print(df.describe())"
   ]
  },
  {
   "cell_type": "code",
   "execution_count": 3,
   "id": "12ec59be-fe7e-439f-ae50-9ce85bf6c290",
   "metadata": {},
   "outputs": [
    {
     "name": "stdout",
     "output_type": "stream",
     "text": [
      "One-Hot Encoding Sonrası Veri:\n",
      "   age  sex  trestbps  chol  fbs  thalach  exang  oldpeak  target  cp_0  ...  \\\n",
      "0   52    1       125   212    0      168      0      1.0       0  True  ...   \n",
      "1   53    1       140   203    1      155      1      3.1       0  True  ...   \n",
      "2   70    1       145   174    0      125      1      2.6       0  True  ...   \n",
      "\n",
      "   slope_2   ca_0   ca_1   ca_2   ca_3   ca_4  thal_0  thal_1  thal_2  thal_3  \n",
      "0     True  False  False   True  False  False   False   False   False    True  \n",
      "1    False   True  False  False  False  False   False   False   False    True  \n",
      "2    False   True  False  False  False  False   False   False   False    True  \n",
      "\n",
      "[3 rows x 28 columns]\n"
     ]
    }
   ],
   "source": [
    "# Kategorik sütunları belirle (veri setine göre)\n",
    "categorical_columns = ['cp', 'restecg', 'slope', 'ca', 'thal']\n",
    "\n",
    "# One-Hot Encoding uygula\n",
    "df_encoded = pd.get_dummies(df, columns=categorical_columns)\n",
    "\n",
    "# İlk 3 satırı göster\n",
    "print(\"One-Hot Encoding Sonrası Veri:\")\n",
    "print(df_encoded.head(3))"
   ]
  },
  {
   "cell_type": "code",
   "execution_count": 4,
   "id": "b7f963c1-6812-4d71-8b69-d6f5526efba6",
   "metadata": {},
   "outputs": [
    {
     "name": "stdout",
     "output_type": "stream",
     "text": [
      "\n",
      "Normalleştirilmiş Veri:\n",
      "        age  sex  trestbps      chol  fbs   thalach  exang   oldpeak  target  \\\n",
      "0 -0.268437    1 -0.377636 -0.659332    0  0.821321      0 -0.060888       0   \n",
      "1 -0.158157    1  0.479107 -0.833861    1  0.255968      1  1.727137       0   \n",
      "2  1.716595    1  0.764688 -1.396233    0 -1.048692      1  1.301417       0   \n",
      "\n",
      "   cp_0  ...  slope_2   ca_0   ca_1   ca_2   ca_3   ca_4  thal_0  thal_1  \\\n",
      "0  True  ...     True  False  False   True  False  False   False   False   \n",
      "1  True  ...    False   True  False  False  False  False   False   False   \n",
      "2  True  ...    False   True  False  False  False  False   False   False   \n",
      "\n",
      "   thal_2  thal_3  \n",
      "0   False    True  \n",
      "1   False    True  \n",
      "2   False    True  \n",
      "\n",
      "[3 rows x 28 columns]\n"
     ]
    }
   ],
   "source": [
    "# Normalleştirilecek sayısal sütunlar\n",
    "numerical_features = ['age', 'trestbps', 'chol', 'thalach', 'oldpeak']\n",
    "\n",
    "# StandardScaler ile normalleştirme\n",
    "scaler = StandardScaler()\n",
    "df_encoded[numerical_features] = scaler.fit_transform(df_encoded[numerical_features])\n",
    "\n",
    "# Normalleştirilmiş veriyi göster\n",
    "print(\"\\nNormalleştirilmiş Veri:\")\n",
    "print(df_encoded.head(3))"
   ]
  },
  {
   "cell_type": "code",
   "execution_count": 5,
   "id": "edf3329d-5c18-463f-99d7-195db0622829",
   "metadata": {},
   "outputs": [
    {
     "name": "stdout",
     "output_type": "stream",
     "text": [
      "Eğitim verisi boyutu: (820, 27)\n",
      "Test verisi boyutu: (205, 27)\n"
     ]
    }
   ],
   "source": [
    "# Hedef değişkeni (target) ve özellikleri ayır\n",
    "X = df_encoded.drop('target', axis=1)  # Özellikler\n",
    "y = df_encoded['target']               # Hedef\n",
    "\n",
    "# Veriyi %80 eğitim, %20 test olarak böl\n",
    "X_train, X_test, y_train, y_test = train_test_split(X, y, test_size=0.2, random_state=42)\n",
    "\n",
    "# Boyutları kontrol et\n",
    "print(\"Eğitim verisi boyutu:\", X_train.shape)\n",
    "print(\"Test verisi boyutu:\", X_test.shape)"
   ]
  },
  {
   "cell_type": "code",
   "execution_count": 6,
   "id": "0a094524-bcc1-4d30-b244-62848c519707",
   "metadata": {},
   "outputs": [
    {
     "name": "stdout",
     "output_type": "stream",
     "text": [
      "Collecting xgboost\n",
      "  Downloading xgboost-3.0.0-py3-none-win_amd64.whl.metadata (2.1 kB)\n",
      "Requirement already satisfied: joblib in c:\\users\\mertm\\appdata\\local\\programs\\python\\python313\\lib\\site-packages (1.4.2)\n",
      "Requirement already satisfied: numpy in c:\\users\\mertm\\appdata\\local\\programs\\python\\python313\\lib\\site-packages (from xgboost) (2.2.4)\n",
      "Requirement already satisfied: scipy in c:\\users\\mertm\\appdata\\local\\programs\\python\\python313\\lib\\site-packages (from xgboost) (1.15.2)\n",
      "Downloading xgboost-3.0.0-py3-none-win_amd64.whl (150.0 MB)\n",
      "   ---------------------------------------- 0.0/150.0 MB ? eta -:--:--\n",
      "   ---------------------------------------- 0.3/150.0 MB ? eta -:--:--\n",
      "    --------------------------------------- 2.1/150.0 MB 7.9 MB/s eta 0:00:19\n",
      "    --------------------------------------- 3.7/150.0 MB 9.9 MB/s eta 0:00:15\n",
      "   - -------------------------------------- 6.3/150.0 MB 9.1 MB/s eta 0:00:16\n",
      "   -- ------------------------------------- 8.7/150.0 MB 9.6 MB/s eta 0:00:15\n",
      "   --- ------------------------------------ 11.8/150.0 MB 10.5 MB/s eta 0:00:14\n",
      "   --- ------------------------------------ 14.7/150.0 MB 11.1 MB/s eta 0:00:13\n",
      "   ---- ----------------------------------- 17.8/150.0 MB 11.5 MB/s eta 0:00:12\n",
      "   ----- ---------------------------------- 20.7/150.0 MB 11.8 MB/s eta 0:00:11\n",
      "   ------ --------------------------------- 23.6/150.0 MB 12.0 MB/s eta 0:00:11\n",
      "   ------- -------------------------------- 26.5/150.0 MB 12.2 MB/s eta 0:00:11\n",
      "   ------- -------------------------------- 29.6/150.0 MB 12.4 MB/s eta 0:00:10\n",
      "   -------- ------------------------------- 32.5/150.0 MB 12.5 MB/s eta 0:00:10\n",
      "   --------- ------------------------------ 35.7/150.0 MB 12.6 MB/s eta 0:00:10\n",
      "   ---------- ----------------------------- 38.5/150.0 MB 12.7 MB/s eta 0:00:09\n",
      "   ----------- ---------------------------- 41.7/150.0 MB 12.8 MB/s eta 0:00:09\n",
      "   ----------- ---------------------------- 44.6/150.0 MB 12.9 MB/s eta 0:00:09\n",
      "   ------------ --------------------------- 47.7/150.0 MB 12.9 MB/s eta 0:00:08\n",
      "   ------------- -------------------------- 50.6/150.0 MB 13.0 MB/s eta 0:00:08\n",
      "   -------------- ------------------------- 53.7/150.0 MB 13.1 MB/s eta 0:00:08\n",
      "   --------------- ------------------------ 56.6/150.0 MB 13.1 MB/s eta 0:00:08\n",
      "   --------------- ------------------------ 59.5/150.0 MB 13.1 MB/s eta 0:00:07\n",
      "   ---------------- ----------------------- 62.7/150.0 MB 13.2 MB/s eta 0:00:07\n",
      "   ----------------- ---------------------- 65.8/150.0 MB 13.2 MB/s eta 0:00:07\n",
      "   ------------------ --------------------- 68.7/150.0 MB 13.3 MB/s eta 0:00:07\n",
      "   ------------------- -------------------- 71.6/150.0 MB 13.3 MB/s eta 0:00:06\n",
      "   ------------------- -------------------- 74.7/150.0 MB 13.3 MB/s eta 0:00:06\n",
      "   -------------------- ------------------- 77.6/150.0 MB 13.3 MB/s eta 0:00:06\n",
      "   --------------------- ------------------ 80.5/150.0 MB 13.4 MB/s eta 0:00:06\n",
      "   ---------------------- ----------------- 83.6/150.0 MB 13.4 MB/s eta 0:00:05\n",
      "   ----------------------- ---------------- 86.5/150.0 MB 13.4 MB/s eta 0:00:05\n",
      "   ----------------------- ---------------- 89.4/150.0 MB 13.4 MB/s eta 0:00:05\n",
      "   ------------------------ --------------- 92.5/150.0 MB 13.4 MB/s eta 0:00:05\n",
      "   ------------------------- -------------- 95.4/150.0 MB 13.5 MB/s eta 0:00:05\n",
      "   -------------------------- ------------- 98.6/150.0 MB 13.5 MB/s eta 0:00:04\n",
      "   -------------------------- ------------ 101.4/150.0 MB 13.5 MB/s eta 0:00:04\n",
      "   --------------------------- ----------- 104.1/150.0 MB 13.5 MB/s eta 0:00:04\n",
      "   --------------------------- ----------- 104.6/150.0 MB 13.4 MB/s eta 0:00:04\n",
      "   --------------------------- ----------- 105.6/150.0 MB 13.1 MB/s eta 0:00:04\n",
      "   --------------------------- ----------- 106.2/150.0 MB 12.7 MB/s eta 0:00:04\n",
      "   --------------------------- ----------- 106.7/150.0 MB 12.7 MB/s eta 0:00:04\n",
      "   --------------------------- ----------- 107.0/150.0 MB 12.4 MB/s eta 0:00:04\n",
      "   --------------------------- ----------- 107.5/150.0 MB 12.2 MB/s eta 0:00:04\n",
      "   ---------------------------- ---------- 109.1/150.0 MB 11.8 MB/s eta 0:00:04\n",
      "   ---------------------------- ---------- 109.1/150.0 MB 11.8 MB/s eta 0:00:04\n",
      "   ---------------------------- ---------- 109.8/150.0 MB 11.5 MB/s eta 0:00:04\n",
      "   ---------------------------- ---------- 110.4/150.0 MB 11.2 MB/s eta 0:00:04\n",
      "   ---------------------------- ---------- 111.4/150.0 MB 11.1 MB/s eta 0:00:04\n",
      "   ---------------------------- ---------- 111.4/150.0 MB 11.1 MB/s eta 0:00:04\n",
      "   ---------------------------- ---------- 111.4/150.0 MB 11.1 MB/s eta 0:00:04\n",
      "   ---------------------------- ---------- 111.4/150.0 MB 11.1 MB/s eta 0:00:04\n",
      "   ----------------------------- --------- 111.9/150.0 MB 10.4 MB/s eta 0:00:04\n",
      "   ----------------------------- --------- 113.0/150.0 MB 10.3 MB/s eta 0:00:04\n",
      "   ----------------------------- --------- 114.0/150.0 MB 10.2 MB/s eta 0:00:04\n",
      "   ----------------------------- --------- 115.1/150.0 MB 10.0 MB/s eta 0:00:04\n",
      "   ------------------------------ -------- 117.7/150.0 MB 10.1 MB/s eta 0:00:04\n",
      "   ------------------------------ -------- 117.7/150.0 MB 10.1 MB/s eta 0:00:04\n",
      "   ------------------------------- -------- 118.8/150.0 MB 9.8 MB/s eta 0:00:04\n",
      "   ------------------------------- -------- 119.0/150.0 MB 9.7 MB/s eta 0:00:04\n",
      "   -------------------------------- ------- 121.1/150.0 MB 9.6 MB/s eta 0:00:03\n",
      "   -------------------------------- ------- 122.2/150.0 MB 9.6 MB/s eta 0:00:03\n",
      "   --------------------------------- ------ 124.8/150.0 MB 9.6 MB/s eta 0:00:03\n",
      "   ---------------------------------- ---- 133.2/150.0 MB 10.1 MB/s eta 0:00:02\n",
      "   ------------------------------------- - 143.9/150.0 MB 10.7 MB/s eta 0:00:01\n",
      "   --------------------------------------  147.1/150.0 MB 10.8 MB/s eta 0:00:01\n",
      "   --------------------------------------  149.9/150.0 MB 10.8 MB/s eta 0:00:01\n",
      "   --------------------------------------  149.9/150.0 MB 10.8 MB/s eta 0:00:01\n",
      "   --------------------------------------  149.9/150.0 MB 10.8 MB/s eta 0:00:01\n",
      "   --------------------------------------  149.9/150.0 MB 10.8 MB/s eta 0:00:01\n",
      "   --------------------------------------  149.9/150.0 MB 10.8 MB/s eta 0:00:01\n",
      "   --------------------------------------  149.9/150.0 MB 10.8 MB/s eta 0:00:01\n",
      "   --------------------------------------  149.9/150.0 MB 10.8 MB/s eta 0:00:01\n",
      "   --------------------------------------  149.9/150.0 MB 10.8 MB/s eta 0:00:01\n",
      "   --------------------------------------  149.9/150.0 MB 10.8 MB/s eta 0:00:01\n",
      "   --------------------------------------  149.9/150.0 MB 10.8 MB/s eta 0:00:01\n",
      "   --------------------------------------  149.9/150.0 MB 10.8 MB/s eta 0:00:01\n",
      "   --------------------------------------  149.9/150.0 MB 10.8 MB/s eta 0:00:01\n",
      "   --------------------------------------  149.9/150.0 MB 10.8 MB/s eta 0:00:01\n",
      "   --------------------------------------  149.9/150.0 MB 10.8 MB/s eta 0:00:01\n",
      "   --------------------------------------  149.9/150.0 MB 10.8 MB/s eta 0:00:01\n",
      "   --------------------------------------  149.9/150.0 MB 10.8 MB/s eta 0:00:01\n",
      "   --------------------------------------  149.9/150.0 MB 10.8 MB/s eta 0:00:01\n",
      "   --------------------------------------  149.9/150.0 MB 10.8 MB/s eta 0:00:01\n",
      "   --------------------------------------  149.9/150.0 MB 10.8 MB/s eta 0:00:01\n",
      "   --------------------------------------  149.9/150.0 MB 10.8 MB/s eta 0:00:01\n",
      "   --------------------------------------  149.9/150.0 MB 10.8 MB/s eta 0:00:01\n",
      "   --------------------------------------  149.9/150.0 MB 10.8 MB/s eta 0:00:01\n",
      "   --------------------------------------  149.9/150.0 MB 10.8 MB/s eta 0:00:01\n",
      "   --------------------------------------  149.9/150.0 MB 10.8 MB/s eta 0:00:01\n",
      "   --------------------------------------  149.9/150.0 MB 10.8 MB/s eta 0:00:01\n",
      "   --------------------------------------  149.9/150.0 MB 10.8 MB/s eta 0:00:01\n",
      "   --------------------------------------  149.9/150.0 MB 10.8 MB/s eta 0:00:01\n",
      "   --------------------------------------  149.9/150.0 MB 10.8 MB/s eta 0:00:01\n",
      "   --------------------------------------  149.9/150.0 MB 10.8 MB/s eta 0:00:01\n",
      "   --------------------------------------  149.9/150.0 MB 10.8 MB/s eta 0:00:01\n",
      "   --------------------------------------  149.9/150.0 MB 10.8 MB/s eta 0:00:01\n",
      "   --------------------------------------  149.9/150.0 MB 10.8 MB/s eta 0:00:01\n",
      "   --------------------------------------  149.9/150.0 MB 10.8 MB/s eta 0:00:01\n",
      "   --------------------------------------  149.9/150.0 MB 10.8 MB/s eta 0:00:01\n",
      "   --------------------------------------  149.9/150.0 MB 10.8 MB/s eta 0:00:01\n",
      "   --------------------------------------  149.9/150.0 MB 10.8 MB/s eta 0:00:01\n",
      "   --------------------------------------  149.9/150.0 MB 10.8 MB/s eta 0:00:01\n",
      "   --------------------------------------  149.9/150.0 MB 10.8 MB/s eta 0:00:01\n",
      "   --------------------------------------  149.9/150.0 MB 10.8 MB/s eta 0:00:01\n",
      "   --------------------------------------  149.9/150.0 MB 10.8 MB/s eta 0:00:01\n",
      "   --------------------------------------  149.9/150.0 MB 10.8 MB/s eta 0:00:01\n",
      "   ---------------------------------------- 150.0/150.0 MB 6.7 MB/s eta 0:00:00\n",
      "Installing collected packages: xgboost\n",
      "Successfully installed xgboost-3.0.0\n",
      "Note: you may need to restart the kernel to use updated packages.\n"
     ]
    }
   ],
   "source": [
    "pip install xgboost joblib"
   ]
  },
  {
   "cell_type": "code",
   "execution_count": 7,
   "id": "6da8f880-d9bc-4c36-bef9-8fcd6a5c7d36",
   "metadata": {},
   "outputs": [],
   "source": [
    "import xgboost as xgb\n",
    "from sklearn.metrics import accuracy_score, f1_score\n",
    "from sklearn.model_selection import GridSearchCV"
   ]
  },
  {
   "cell_type": "code",
   "execution_count": 8,
   "id": "bbd3bc02-a76b-45bd-a2b6-51da4bbce5d7",
   "metadata": {},
   "outputs": [
    {
     "name": "stdout",
     "output_type": "stream",
     "text": [
      "Fitting 5 folds for each of 12 candidates, totalling 60 fits\n"
     ]
    }
   ],
   "source": [
    "# Modeli tanımla (XGBoost sınıflandırıcı)\n",
    "model = xgb.XGBClassifier()\n",
    "\n",
    "# Hiperparametre grid'i\n",
    "param_grid = {\n",
    "    'max_depth': [3, 5, 7],          # Ağacın maksimum derinliği\n",
    "    'learning_rate': [0.01, 0.1],     # Öğrenme hızı\n",
    "    'n_estimators': [100, 200]        # Ağaç sayısı\n",
    "}\n",
    "\n",
    "# GridSearchCV ile en iyi parametreleri bul\n",
    "grid_search = GridSearchCV(\n",
    "    estimator=model,\n",
    "    param_grid=param_grid,\n",
    "    cv=5,                             # 5 kat çapraz doğrulama\n",
    "    scoring='f1',                     # F1-Score'a göre optimizasyon\n",
    "    verbose=1                         # İşlem detaylarını göster\n",
    ")\n",
    "\n",
    "# Eğitim verisi ile modeli eğit\n",
    "grid_search.fit(X_train, y_train)\n",
    "\n",
    "# En iyi modeli seç\n",
    "best_model = grid_search.best_estimator_"
   ]
  },
  {
   "cell_type": "code",
   "execution_count": 9,
   "id": "1f4b829d-ab25-4a0d-aff2-902b9c4e257e",
   "metadata": {},
   "outputs": [
    {
     "name": "stdout",
     "output_type": "stream",
     "text": [
      "En İyi Parametreler: {'learning_rate': 0.1, 'max_depth': 7, 'n_estimators': 200}\n"
     ]
    }
   ],
   "source": [
    "print(\"En İyi Parametreler:\", grid_search.best_params_)"
   ]
  },
  {
   "cell_type": "code",
   "execution_count": 10,
   "id": "225ceee6-9e98-44a4-ba6f-ed3bc485ed84",
   "metadata": {},
   "outputs": [],
   "source": [
    "y_pred = best_model.predict(X_test)"
   ]
  },
  {
   "cell_type": "code",
   "execution_count": 11,
   "id": "fdb79e3b-8cdb-43f9-8c76-f478e254a8df",
   "metadata": {},
   "outputs": [
    {
     "name": "stdout",
     "output_type": "stream",
     "text": [
      "Doğruluk (Accuracy): 0.9853658536585366\n",
      "F1-Skor (F1-Score): 0.9852216748768473\n"
     ]
    }
   ],
   "source": [
    "print(\"Doğruluk (Accuracy):\", accuracy_score(y_test, y_pred))\n",
    "print(\"F1-Skor (F1-Score):\", f1_score(y_test, y_pred))"
   ]
  },
  {
   "cell_type": "code",
   "execution_count": 12,
   "id": "7a9716b3-33eb-4eb1-a47f-cf5bfc9ad4a7",
   "metadata": {},
   "outputs": [
    {
     "name": "stdout",
     "output_type": "stream",
     "text": [
      "Kaydedilen Dosya: ['.ipynb_checkpoints', 'heart.csv', 'heart.ipynb', 'heart_disease_model.pkl']\n"
     ]
    }
   ],
   "source": [
    "import joblib\n",
    "\n",
    "# Modeli kaydet\n",
    "joblib.dump(best_model, 'heart_disease_model.pkl')\n",
    "\n",
    "# Kaydedilen dosyayı kontrol et\n",
    "import os\n",
    "print(\"Kaydedilen Dosya:\", os.listdir())"
   ]
  },
  {
   "cell_type": "code",
   "execution_count": null,
   "id": "8cac73d1-6648-4bf2-a5b0-b416d93915f1",
   "metadata": {},
   "outputs": [],
   "source": []
  }
 ],
 "metadata": {
  "kernelspec": {
   "display_name": "Python 3 (ipykernel)",
   "language": "python",
   "name": "python3"
  },
  "language_info": {
   "codemirror_mode": {
    "name": "ipython",
    "version": 3
   },
   "file_extension": ".py",
   "mimetype": "text/x-python",
   "name": "python",
   "nbconvert_exporter": "python",
   "pygments_lexer": "ipython3",
   "version": "3.13.2"
  }
 },
 "nbformat": 4,
 "nbformat_minor": 5
}
